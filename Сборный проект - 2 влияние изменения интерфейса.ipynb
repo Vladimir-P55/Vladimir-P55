{
 "cells": [
  {
   "cell_type": "markdown",
   "id": "6dd59d38",
   "metadata": {},
   "source": [
    "  # **Проект: Сборный проект - 2**\n",
    "\n",
    "**Заказчик**\n",
    "\n",
    "Стартап по продаже продуктов питания\n",
    "\n",
    "**Цель проекта**\n",
    "\n",
    "Нужно разобраться, как ведут себя пользователи мобильного приложения: \n",
    "- Изучить воронку продаж. Узнайть, как пользователи доходят до покупки. Сколько пользователей доходит до покупки, а сколько — «застревает» на предыдущих шагах? На каких именно?\n",
    "- Исследовать результаты A/A/B-эксперимента. Пользователей разбили на 3 группы: 2 контрольные со старыми шрифтами и одну экспериментальную — с новыми. Необходимо выяснить, какой шрифт лучше.\n",
    "\n",
    "\n",
    "**Ход исследования**\n",
    "\n",
    "* Обзор и предобработка данных;\n",
    "* Изучить и проверить данные;\n",
    "* Изучить воронку событий;\n",
    "* Изучить результаты эксперимента;"
   ]
  },
  {
   "cell_type": "markdown",
   "id": "a260ac3f",
   "metadata": {},
   "source": [
    "\n",
    "# План работы\n",
    "\n",
    "\n",
    "# 1. Загрузка данных\n",
    "\n",
    "- выгрузить необходимые библеотеки для работы - 5 мин;\n",
    "- считать CSV-файл с данными с помощью библиотеки pandas и сохранить их в датафрейм - 5 мин;\n",
    "- вывести первые строки набора данных - 2 мин;\n",
    "- посмотеть, какие есть столбцы и какого они типа - 5 мин;\n",
    "- написать вывод по разделу - 10 мин.\n",
    "  \n",
    "\n",
    "# 2. Предобработка данных\n",
    "\n",
    "- заменить названия столбцов (привести к нижнему регистру) - 3 мин;\n",
    "- преобразовать данные в нужные типы - 10 мин;\n",
    "- обработать пропуски при необходимости - 20 мин\n",
    "- добавить столбец даты и времени, а также отдельный столбец дат; 10 мин\n",
    "- расписать весь план работы - 1 час 30 мин;  ушло 45 мин\n",
    "- описать и сделать соответствующие параграффы в проекте - 30 мин;\n",
    "- написать вывод по разделу - 10 мин.\n",
    "  \n",
    " \n",
    "# 3. Изучить и проверить данные\n",
    "\n",
    "- сколько всего событий в логе? 5 мин\n",
    "- сколько всего пользователей в логе? 5 мин\n",
    "- сколько в среднем событий приходится на пользователя? 5 мин\n",
    "- данными за какой период мы располагаем? Найти максимальную и минимальную дату. Изучить, как меняется количество данных: построить столбчатую диаграмму, которая отобразит количество событий в зависимости от времени в разрезе групп. Можно ли быть уверенным, что у нас одинаково полные данные за весь период? Определить, с какого момента данные полные и отбросить более старые. Данными за какой период времени мы располагаем на самом деле? 1 час\n",
    "- много ли событий и пользователей мы потеряли, отбросив старые данные? 20 мин\n",
    "- проверить, что у нас есть пользователи из всех трёх экспериментальных групп. 20 мин\n",
    "- написать вывод по разделу - 10 мин.\n",
    "  \n",
    "\n",
    "# 4. Изучить воронку событий\n",
    "\n",
    "- посмотреть, какие события есть в логах, как часто они встречаются. Отсортировать события по частоте. 10 мин\n",
    "- посчитать, сколько пользователей совершали каждое из этих событий. Отсортировать события по числу пользователей. Посчитать долю пользователей, которые хоть раз совершали событие. 10 мин\n",
    "- предположить, в каком порядке происходят события. Все ли они выстраиваются в последовательную цепочку? (их не нужно учитывать при расчёте воронки). 20 мин\n",
    "- по воронке событий посчитать, какая доля пользователей проходит на следующий шаг воронки (от числа пользователей на предыдущем). То есть для последовательности событий A → B → C посчитать отношение числа пользователей с событием B к количеству пользователей с событием A, а также отношение числа пользователей с событием C к количеству пользователей с событием B.\n",
    "- на каком шаге теряется больше всего пользователей? 30 мин\n",
    "- какая доля пользователей доходит от первого события до оплаты? 20 мин\n",
    "- написать вывод по разделу - 10 мин.\n",
    " \n",
    "  \n",
    "# 5. Изучить результаты эксперимента \n",
    "\n",
    "- сколько пользователей в каждой экспериментальной группе? 10 мин\n",
    "- есть 2 контрольные группы для А/А-эксперимента, чтобы проверить корректность всех механизмов и расчётов. Проверить, находят ли статистические критерии разницу между выборками 246 и 247. 10 мин\n",
    "- выберите самое популярное событие. Посчитать число пользователей, совершивших это событие в каждой из контрольных групп. Посчитать долю пользователей, совершивших это событие. Проверить, будет ли отличие между группами статистически достоверным. Проделать то же самое для всех других событий (удобно обернуть проверку в отдельную функцию). Можно ли сказать, что разбиение на группы работает корректно? 30 мин\n",
    "- аналогично поступить с группой с изменённым шрифтом. Сравнить результаты с каждой из контрольных групп в отдельности по каждому событию. Сравнить результаты с объединённой контрольной группой. Какие выводы из эксперимента можно сделать? 20 мин\n",
    "- какой уровень значимости мы выбрали при проверке статистических гипотез выше? Посчитайте, сколько проверок статистических гипотез мы сделали. При уровне значимости 0.1 в 10% случаев можно ошибочно отклонить нулевую гипотезу при условии, что она верна. Какой уровень значимости стоит применить? Если мы хотитим изменить его, проделать предыдущие пункты и проверить свои выводы. 30 мин\n",
    "- написать вывод по разделу - 10 мин.\n",
    " \n",
    "\n",
    "# 6. Написать общий вывод - 30 мин\n",
    "\n",
    "- выделить причины неэффективности привлечения пользователей.\n",
    "- сформулировать рекомендации для отдела маркетинга.\n",
    "\n"
   ]
  },
  {
   "cell_type": "markdown",
   "id": "2011d1f0",
   "metadata": {},
   "source": [
    "### Загрузка данных и подготовка их к анализу"
   ]
  },
  {
   "cell_type": "markdown",
   "id": "959883af",
   "metadata": {
    "id": "_vsKinGUWVwk"
   },
   "source": [
    "Выгрузим необходимые библеотеки"
   ]
  },
  {
   "cell_type": "code",
   "execution_count": 1,
   "id": "72454a97",
   "metadata": {},
   "outputs": [],
   "source": [
    "import pandas as pd \n",
    "import matplotlib.pyplot as plt\n",
    "import scipy.stats as st\n",
    "import datetime as dt \n",
    "import numpy as np\n",
    "import seaborn as sns\n",
    "import math as mth\n",
    "import plotly.express as px\n",
    "from plotly import graph_objects as go"
   ]
  },
  {
   "cell_type": "markdown",
   "id": "5fcdb7f7",
   "metadata": {},
   "source": [
    "Выгрузим датафрейм"
   ]
  },
  {
   "cell_type": "code",
   "execution_count": null,
   "id": "702739bd",
   "metadata": {},
   "outputs": [],
   "source": [
    "df = pd.read_csv('https://code.s3.yandex.net/datasets/logs_exp.csv', sep=\"\\t\")"
   ]
  },
  {
   "cell_type": "markdown",
   "id": "e7b92835",
   "metadata": {},
   "source": [
    "# **Описание данных**\n",
    " \n",
    "Каждая запись в логе — это действие пользователя, или событие.\n",
    "\n",
    "Файл `/datasets/logs_exp.csv`.\n",
    "* **EventName** — название события;\n",
    "* **DeviceIDHash** — уникальный идентификатор пользователя;\n",
    "* **EventTimestamp** — время события;\n",
    "* **ExpId** — номер эксперимента: 246 и 247 — контрольные группы, а 248 — экспериментальная.\n",
    "\n",
    "\n"
   ]
  },
  {
   "cell_type": "markdown",
   "id": "d01e09a2",
   "metadata": {},
   "source": [
    "Создадим функцию для вызова общей информации по датафрему:"
   ]
  },
  {
   "cell_type": "code",
   "execution_count": null,
   "id": "1c24ce3b",
   "metadata": {},
   "outputs": [],
   "source": [
    "pd.options.display.max_colwidth = 130\n",
    "\n",
    "def total_info_csv(dataframe):\n",
    "    print('Первые 10 строк датафрейма')\n",
    "    display(dataframe.head(10))\n",
    "    print()\n",
    "    print()\n",
    "    print('Общая информация по датафрейму')\n",
    "    print()\n",
    "    print(dataframe.info(10))\n",
    "    print()\n",
    "    print()\n",
    "    print('Выведем описательную статистику по датафрейму')\n",
    "    print()\n",
    "    print(dataframe.describe())\n",
    "    print()\n",
    "    print('Найдено дубликатов в датафрейме:', dataframe.duplicated().sum())\n",
    "    print()"
   ]
  },
  {
   "cell_type": "markdown",
   "id": "3f72bbbc",
   "metadata": {},
   "source": [
    "Выведем общюю информацию по датафрейму `df`."
   ]
  },
  {
   "cell_type": "code",
   "execution_count": null,
   "id": "948a7d3f",
   "metadata": {},
   "outputs": [],
   "source": [
    "total_info_csv(df)"
   ]
  },
  {
   "cell_type": "markdown",
   "id": "ff15a4c1",
   "metadata": {},
   "source": [
    "**Вывод**\n",
    "\n",
    "- выгрузили необходимые библеотеки для работы;\n",
    "- считали CSV-файл с данными и сохранили его в датафрейм;\n",
    "- необходимо заменить названия столбцов на более подходящие;\n",
    "- требуется замена типа данных в столбце с датой;\n",
    "- обнаружены дубликаты которые необходимо обработать;\n",
    "- пропусков не обнаружено."
   ]
  },
  {
   "cell_type": "markdown",
   "id": "db739643",
   "metadata": {},
   "source": [
    "### Предобработка данных"
   ]
  },
  {
   "cell_type": "markdown",
   "id": "3ce4a260",
   "metadata": {},
   "source": [
    "- заменить названия столбцов (привести к нижнему регистру) - 3 мин;\n",
    "- преобразовать данные в нужные типы - 10 мин;\n",
    "- обработать пропуски при необходимости - 20 мин\n",
    "- добавить столбец даты и времени, а также отдельный столбец дат; 10 мин\n",
    "- расписать весь план работы - 1 час 30 мин;  ушло 45 мин\n",
    "- описать и сделать соответствующие параграффы в проекте - 30 мин;\n",
    "- написать вывод по разделу - 10 мин."
   ]
  },
  {
   "cell_type": "markdown",
   "id": "cd021122",
   "metadata": {},
   "source": [
    "Приведем название столбцов к нижнему регистру."
   ]
  },
  {
   "cell_type": "code",
   "execution_count": null,
   "id": "8ddb65ce",
   "metadata": {},
   "outputs": [],
   "source": [
    "df.columns = df.columns.str.lower()"
   ]
  },
  {
   "cell_type": "markdown",
   "id": "2e13eb74",
   "metadata": {},
   "source": [
    "Переименуем столбцы"
   ]
  },
  {
   "cell_type": "code",
   "execution_count": null,
   "id": "243ac12d",
   "metadata": {},
   "outputs": [],
   "source": [
    "df.rename(columns={'eventname':'event', 'deviceidhash':'user_id', 'eventtimestamp':'date_event', 'expid':'exp'}, inplace=True)"
   ]
  },
  {
   "cell_type": "markdown",
   "id": "dd600975",
   "metadata": {},
   "source": [
    "Преобразуем тип данных с датой и добавим столбец даты и времени, а также отдельный столбец дат"
   ]
  },
  {
   "cell_type": "code",
   "execution_count": null,
   "id": "270ecbd3",
   "metadata": {
    "scrolled": true
   },
   "outputs": [],
   "source": [
    "df['date_time'] = pd.to_datetime(df['date_event'] , unit='s') \n",
    "df['date'] = pd.to_datetime(df['date_time']).dt.date # добавляем столбец с датой\n",
    "df['date'] = pd.to_datetime(df['date'], format='%Y-%m-%d') # приводим к типу datetime\n",
    "display(df.head())"
   ]
  },
  {
   "cell_type": "code",
   "execution_count": null,
   "id": "2c5387a0",
   "metadata": {},
   "outputs": [],
   "source": [
    "df.info()"
   ]
  },
  {
   "cell_type": "markdown",
   "id": "9c124fc5",
   "metadata": {},
   "source": [
    "Удалим выявленные дубликаты в датафрейме"
   ]
  },
  {
   "cell_type": "code",
   "execution_count": null,
   "id": "5e27841c",
   "metadata": {},
   "outputs": [],
   "source": [
    "df = df.drop_duplicates().reset_index(drop=True)"
   ]
  },
  {
   "cell_type": "code",
   "execution_count": null,
   "id": "96bf8c9f",
   "metadata": {},
   "outputs": [],
   "source": [
    "# проверим на наличие дубликатов\n",
    "display(df.duplicated().sum())"
   ]
  },
  {
   "cell_type": "markdown",
   "id": "0173b597",
   "metadata": {},
   "source": [
    "**Вывод**\n",
    "\n",
    "- привели название столбцов к нижнему регистру и переименовали их;\n",
    "- преобразовали тип данных с датой и добавили столбец даты и времени, а также отдельный столбец дат;\n",
    "- избавились от дубликатов."
   ]
  },
  {
   "cell_type": "markdown",
   "id": "db1412db",
   "metadata": {},
   "source": [
    "### Изучить и проверить данные"
   ]
  },
  {
   "cell_type": "markdown",
   "id": "77dc6c68",
   "metadata": {},
   "source": [
    "Выясним сколько событий и пользователей в логе, а также сколько в среднем событий приходится на пользователя"
   ]
  },
  {
   "cell_type": "code",
   "execution_count": null,
   "id": "cd00c1bd",
   "metadata": {},
   "outputs": [],
   "source": [
    "print('Всего событий в логе -', df['event'].count())\n",
    "print('Всего уникальных событий в логе -', df['event'].nunique())\n",
    "print('Всего пользователей в логе -', df['user_id'].nunique())\n",
    "print('В среднем событий приходится на пользователя -', df.groupby('user_id')['event'].count().mean().astype(int))"
   ]
  },
  {
   "cell_type": "markdown",
   "id": "eb9daac4",
   "metadata": {},
   "source": [
    "Найдем за какой период у нас данные"
   ]
  },
  {
   "cell_type": "code",
   "execution_count": null,
   "id": "bc839b0d",
   "metadata": {},
   "outputs": [],
   "source": [
    "print('Минимальная дата события:', min(df['date']))\n",
    "print('Максимальная дата события:', max(df['date']))\n",
    "print('Всего дней -', max(df['date_time'])-min(df['date_time']))"
   ]
  },
  {
   "cell_type": "markdown",
   "id": "2ea1becf",
   "metadata": {},
   "source": [
    "Построим столбчатую диаграмму, которая отобразит количество событий в зависимости от времени в разрезе групп"
   ]
  },
  {
   "cell_type": "code",
   "execution_count": null,
   "id": "90a8cd23",
   "metadata": {},
   "outputs": [],
   "source": [
    "# построим общую диаграмму\n",
    "series = df\n",
    "series['date'] = series.date_time.dt.date\n",
    "series = series.groupby('date')[['event']].count().reset_index()\n",
    "\n",
    "plt.figure(figsize=(15, 7))\n",
    "ax = sns.barplot(x='date', y='event', data=series, palette='crest')\n",
    "for i, v in series.iterrows():\n",
    "       ax.text(i, v[1]+500, str(v[1]), ha='center')\n",
    "plt.xticks(rotation=90)\n",
    "plt.title('Распределение событий по времени')\n",
    "plt.xlabel('Дата')\n",
    "plt.ylabel('Количество событий')\n",
    "plt.show()"
   ]
  },
  {
   "cell_type": "markdown",
   "id": "a8204482",
   "metadata": {},
   "source": [
    "Построим столбчатые диаграммы распределения событий по времени для каждой из групп"
   ]
  },
  {
   "cell_type": "code",
   "execution_count": null,
   "id": "6775a4e0",
   "metadata": {},
   "outputs": [],
   "source": [
    "series_246 = df.loc[df['exp'] == 246]\n",
    "series_246 = series_246.groupby('date')[['event']].count().reset_index()\n",
    "\n",
    "plt.figure(figsize=(15, 5))\n",
    "ax = sns.barplot(x='date', y='event', data=series_246, palette='crest')\n",
    "for i, v in series_246.iterrows():\n",
    "       ax.text(i, v[1]+500, str(v[1]), ha='center')\n",
    "plt.xticks(rotation=90)\n",
    "plt.title('Распределение событий по времени в контрольной группе 246')\n",
    "plt.xlabel('Дата')\n",
    "plt.ylabel('Количество событий')\n",
    "\n",
    "series_247 = df.loc[df['exp'] == 247]\n",
    "series_247 = series_247.groupby('date')[['event']].count().reset_index()\n",
    "\n",
    "plt.figure(figsize=(15, 5))\n",
    "ax = sns.barplot(x='date', y='event', data=series_247, palette='crest')\n",
    "for i, v in series_247.iterrows():\n",
    "       ax.text(i, v[1]+500, str(v[1]), ha='center')\n",
    "plt.xticks(rotation=90)\n",
    "plt.title('Распределение событий по времени в контрольной группе 247')\n",
    "plt.xlabel('Дата')\n",
    "plt.ylabel('Количество событий')\n",
    "\n",
    "series_248 = df.loc[df['exp'] == 248]\n",
    "series_248 = series_248.groupby('date')[['event']].count().reset_index()\n",
    "\n",
    "plt.figure(figsize=(15, 5))\n",
    "ax = sns.barplot(x='date', y='event', data=series_248, palette='crest')\n",
    "for i, v in series_248.iterrows():\n",
    "       ax.text(i, v[1]+500, str(v[1]), ha='center')\n",
    "plt.xticks(rotation=90)\n",
    "plt.title('Распределение событий по времени в контрольной группе 248')\n",
    "plt.xlabel('Дата')\n",
    "plt.ylabel('Количество событий')\n",
    "plt.show()"
   ]
  },
  {
   "cell_type": "markdown",
   "id": "1f78e6a3",
   "metadata": {},
   "source": [
    "Из диаграммы видно, что данные по событиям распределенны не равномерно за период, так например на конец первой недели теста, а именно на `2019-07-31` приходиться всего 2030 событий, а уже `2019-08-01` приходиться 36141 событий и на протяжении всей недели далее не опускается ниже 31096 событий в день.\n",
    "\n",
    "Считаю, что нельзя считать данные за весь период полными, поэтому данные за первую неделю теста, а именно до `2019-07-31` включительно будет считать неполными и не будем их учитывать в анализе. \n",
    "\n",
    "Актуальным периодом будем считать с `2019-08-01` по `2019-08-07`."
   ]
  },
  {
   "cell_type": "markdown",
   "id": "bc26a331",
   "metadata": {},
   "source": [
    "Посчитаем сколько пользователей и событий находяться в неактуальном периоде."
   ]
  },
  {
   "cell_type": "code",
   "execution_count": null,
   "id": "b351f8fb",
   "metadata": {},
   "outputs": [],
   "source": [
    "df_actual = df.loc[df['date_time'] >= '2019-08-01']\n",
    "print('Всего событий в логе -', df['event'].count()-df_actual['event'].count())\n",
    "print('Всего пользователей в логе -', len(df['user_id'].unique()) - len(df_actual['user_id'].unique()))\n",
    "print ('Доля событый от которых избавляемся составляет:', \n",
    "       round(((df['event'].count()-df_actual['event'].count())/df['event'].count())*100,2),'%')\n",
    "print('Доля пользователей от которых избавляемся составляет:', \n",
    "      round((len(df['user_id'].unique()) - len(df_actual['user_id'].unique()))/df['user_id'].nunique()*100,2),'%')"
   ]
  },
  {
   "cell_type": "markdown",
   "id": "9f87fb2c",
   "metadata": {},
   "source": [
    "Потери как наблюдений так и пользователей не существенные."
   ]
  },
  {
   "cell_type": "markdown",
   "id": "c43541d4",
   "metadata": {},
   "source": [
    "Проверим количество пользователей в каждой из наблюдаемых групп"
   ]
  },
  {
   "cell_type": "code",
   "execution_count": null,
   "id": "1af4085a",
   "metadata": {
    "scrolled": true
   },
   "outputs": [],
   "source": [
    "print(df_actual.groupby('exp')['user_id'].nunique())\n",
    "print('Всего пользователей в тесте за актуальный период -', df_actual['user_id'].nunique())"
   ]
  },
  {
   "cell_type": "markdown",
   "id": "f2d91adc",
   "metadata": {},
   "source": [
    "Проверим группы на совпадения пользователей"
   ]
  },
  {
   "cell_type": "code",
   "execution_count": null,
   "id": "32532044",
   "metadata": {},
   "outputs": [],
   "source": [
    "g_246 = df_actual[df_actual['exp'] == 246]['user_id']\n",
    "g_247 = df_actual[df_actual['exp'] == 247]['user_id']\n",
    "g_248 = df_actual[df_actual['exp'] == 248]['user_id']\n",
    "\n",
    "df_actual_aab = df_actual.query('user_id in @g_246 and user_id in @g_247 and user_id in @g_248')\n",
    "display(df_actual_aab['user_id'].unique())\n",
    "print('Количество пользователей в трех группах:', df_actual_aab['user_id'].nunique())\n",
    "print('Всего пользователей в тесте:', df_actual['user_id'].nunique())\n",
    "\n",
    "df_actual_246_247 = df_actual.query('user_id in @g_246 and user_id in @g_247')\n",
    "display(df_actual_246_247['user_id'].unique())\n",
    "print('Количество пользователей в двух группах 246 и 247:', df_actual_246_247['user_id'].nunique())\n",
    "\n",
    "df_actual_246_248 = df_actual.query('user_id in @g_246 and user_id in @g_248')\n",
    "display(df_actual_246_248['user_id'].unique())\n",
    "print('Количество пользователей в двух группах 246 и 248:', df_actual_246_248['user_id'].nunique())\n",
    "\n",
    "df_actual_248_247 = df_actual.query('user_id in @g_248 and user_id in @g_247')\n",
    "display(df_actual_248_247['user_id'].unique())\n",
    "print('Количество пользователей в двух группах 248 и 247:', df_actual_248_247['user_id'].nunique())"
   ]
  },
  {
   "cell_type": "markdown",
   "id": "e48d88fb",
   "metadata": {},
   "source": [
    "Пересекающихся пользователей между группами нет"
   ]
  },
  {
   "cell_type": "markdown",
   "id": "fcbb856f",
   "metadata": {},
   "source": [
    "**Вывод:**\n",
    "- Всего событий в логе: 243713\n",
    "- 5 названий событий.\n",
    "- 7551 уникальных индинтификаторов пользователей\n",
    "- 3 номера эксперимента: 246 (2484 пользователя) и 247 (2513 пользователя) — контрольные группы, а 248 (2537 пользователя) — экспериментальная.\n",
    "- 14 дат в которых проводились наблюдения\n",
    "- Среднее количество событий на каждого пользователя: 32\n",
    "- Минимальная дата наблюдений: 2019-07-25\n",
    "- Максимальная дата наблюдений: 2019-08-01\n",
    "- Актуальный период с `2019-08-01` по `2019-08-07`.\n",
    "- Отбросив не полные данные потеряли 17 пользователей и 2610 наблюдений."
   ]
  },
  {
   "cell_type": "markdown",
   "id": "265d390e",
   "metadata": {},
   "source": [
    "### Изучить воронку событий"
   ]
  },
  {
   "cell_type": "markdown",
   "id": "180acb87",
   "metadata": {},
   "source": [
    "Посмотрим какие события есть в логах и как часто они встречаются"
   ]
  },
  {
   "cell_type": "code",
   "execution_count": null,
   "id": "4dbbf8b4",
   "metadata": {},
   "outputs": [],
   "source": [
    "print(df_actual['event'].value_counts().sort_values(ascending=False))"
   ]
  },
  {
   "cell_type": "markdown",
   "id": "994b845b",
   "metadata": {},
   "source": [
    "Явным лидером событием является `MainScreenAppear` это и не удивиьельно ведь это главный экран, далее идет экран с офертой `OffersScreenAppear`, далее экран с корзиной `CartScreenAppear`, далее экран об успешной оплате `PaymentScreenSuccessful`, но и самый низкий показатель имеет обучение `Tutorial`."
   ]
  },
  {
   "cell_type": "markdown",
   "id": "7e2abf6a",
   "metadata": {},
   "source": [
    "Посчитаем количество пользователей по каждому событию"
   ]
  },
  {
   "cell_type": "code",
   "execution_count": null,
   "id": "17ba2db8",
   "metadata": {},
   "outputs": [],
   "source": [
    "print(df_actual.groupby('event')['user_id'].nunique().sort_values(ascending=False))"
   ]
  },
  {
   "cell_type": "markdown",
   "id": "ed63b264",
   "metadata": {},
   "source": [
    "Места распределились в том же порядке, что и по логам событий.\n",
    "\n",
    "Можно сделать вывод, что это воронка событий так как она имеет последовательную цепочку событий. Исключение составляет событие `Tutorial`, так как к нему обращаются при необходимости в случае какого либо непонимания у пользователей при нахождении на сайте. Для анализа воронки это событие не нужно и его следует удалить."
   ]
  },
  {
   "cell_type": "markdown",
   "id": "fb51aa96",
   "metadata": {},
   "source": [
    "По воронке создадим сводную таблицу для анализа, посчитаем долю пользователей по каждому событию которые совершали хотябы одно событие и конверсию по каждому шагу воронки."
   ]
  },
  {
   "cell_type": "code",
   "execution_count": null,
   "id": "b82eae66",
   "metadata": {},
   "outputs": [],
   "source": [
    "df_vor = (\n",
    "        df_actual.groupby('event').agg({'event':'count', 'user_id': 'nunique'})\n",
    "        .rename(columns={'event':'event_cnt', 'user_id':'user_cnt'})\n",
    "        .sort_values(by ='event_cnt', ascending=False).reset_index()\n",
    "    )\n",
    "# Доля уникальных пользователей относительно общего количества пользователей\n",
    "df_vor['rate %'] = round((df_vor['user_cnt'] / len(df_actual['user_id'].unique())) * 100, 1)\n",
    "\n",
    "#  Cдвиг столбца user_cnt на одну строку вниз\n",
    "df_vor['step'] = df_vor['user_cnt'].shift()\n",
    "\n",
    "# Конверсия в следущий шаг\n",
    "df_vor['convers_step'] = round(df_vor['user_cnt'] / df_vor['step'] * 100, 1) \n",
    "\n",
    "# Удаляем столбец step\n",
    "df_vor.drop(columns= ['step'], axis = 1, inplace = True)\n",
    "\n",
    "# Заменю NaN в первой строке на 100% к ним будем считать следующий шаг\n",
    "df_vor = df_vor.fillna(100)\n",
    "\n",
    "display(df_vor)"
   ]
  },
  {
   "cell_type": "markdown",
   "id": "cc0db917",
   "metadata": {},
   "source": [
    " Визуализируем с помощью графика воронку движения пользователей"
   ]
  },
  {
   "cell_type": "code",
   "execution_count": null,
   "id": "dde756cf",
   "metadata": {
    "scrolled": false
   },
   "outputs": [],
   "source": [
    "plt.figure(figsize=(15, 7))\n",
    "sns.barplot(data=df_vor, x='event', y='user_cnt', palette='crest')\n",
    "plt.title('Движение пользователей по приложению')\n",
    "plt.xlabel('События')\n",
    "plt.ylabel('Количество пользователей')\n",
    "plt.show()"
   ]
  },
  {
   "cell_type": "code",
   "execution_count": null,
   "id": "e9431cac",
   "metadata": {
    "scrolled": false
   },
   "outputs": [],
   "source": [
    "funnel = df_vor[df_vor['event'] != 'Tutorial']\n",
    "\n",
    "fig = go.Figure(go.Funnel(y = funnel['event'],\n",
    "                          x = funnel['user_cnt'],\n",
    "                          opacity = 0.6,\n",
    "                          textposition = 'inside',\n",
    "                          textinfo = 'value + percent previous'))\n",
    "fig.update_layout(title_text='Воронка событий')\n",
    "fig.show()"
   ]
  },
  {
   "cell_type": "markdown",
   "id": "becd3b94",
   "metadata": {},
   "source": [
    "Видно что не все пользователи заходят на главный экран, возможно, они заходят по push-уведомлениям минуя главный экран либо по ссылкам."
   ]
  },
  {
   "cell_type": "markdown",
   "id": "f19bdac9",
   "metadata": {},
   "source": [
    "Больше всего теряется пользователей на этапе `Tutorial`, возможно, пользователи не считают необходимым ознакомиться с инструкцией и обращаются к ней только в случае необходимости, поэтому учитывать `Tutorial` в воронке не нужно.\n",
    "\n",
    "Исходя из этого больше всего пользователей теряется `(38,1%)` при переходе с главного экрана на экран предложения. Возможно проблема в главном экране.\n",
    "\n",
    "Доля пользователей которая доходит от первого события до оплаты составляет `47%`."
   ]
  },
  {
   "cell_type": "markdown",
   "id": "5b196700",
   "metadata": {},
   "source": [
    "Удалим событие `Tutorial`"
   ]
  },
  {
   "cell_type": "code",
   "execution_count": null,
   "id": "071751b1",
   "metadata": {},
   "outputs": [],
   "source": [
    "df_vor = df_vor.query('event != \"Tutorial\"').reset_index(drop=True)\n",
    "display(df_vor)"
   ]
  },
  {
   "cell_type": "markdown",
   "id": "76eb1327",
   "metadata": {},
   "source": [
    "**Вывод**\n",
    "\n",
    "- Последовательность событий распределилась одинаково, что при анализе по количеству логов самих событий, что при подсчете событий по количеству пользователей, порядок следующий:\n",
    "        * MainScreenAppear - главный экран;\n",
    "        * OffersScreenAppear - экран оферты;\n",
    "        * CartScreenAppear - экран корзины;\n",
    "        * PaymentScreenSuccessfu - экран об успешной оплате;\n",
    "        * Tutorial - обучение (инструкция).\n",
    "- Больше всего теряется пользователей на этапе Tutorial, возможно, пользователи не считают необходимым ознакомиться с инструкцией и обращаются к ней только в случае необходимости, поэтому учитывать Tutorial в воронке не нужно, это событие мы удалили;\n",
    "- Выяснили что что переход на экран офферты является наиболее сложным для пользователей этапом. Исходя из этого больше всего пользователей теряется (38,1%) при переходе с главного экрана на экран оферты. Возможно проблема в главном экране (на данном этапе пока не понятно это влияние старого шрифта или нового) либо имеются еще какие либо проблемы;\n",
    "- Доля пользователей которая доходит от первого события до оплаты составляет 47%."
   ]
  },
  {
   "cell_type": "markdown",
   "id": "92108c58",
   "metadata": {},
   "source": [
    "### Изучить результаты эксперимента"
   ]
  },
  {
   "cell_type": "markdown",
   "id": "25a6a9f3",
   "metadata": {},
   "source": [
    "Удалим событие `Tutorial` из выборки актуального периода"
   ]
  },
  {
   "cell_type": "markdown",
   "id": "dac853cf",
   "metadata": {},
   "source": [
    "Проверим количество пользователей в каждой из наблюдаемых групп"
   ]
  },
  {
   "cell_type": "code",
   "execution_count": null,
   "id": "def7cec0",
   "metadata": {},
   "outputs": [],
   "source": [
    "df_actual = df_actual.query('event != \"Tutorial\"').reset_index(drop=True)"
   ]
  },
  {
   "cell_type": "markdown",
   "id": "49e11a17",
   "metadata": {},
   "source": [
    "Посчитаем пользователей в каждой экспериментальной группе."
   ]
  },
  {
   "cell_type": "code",
   "execution_count": null,
   "id": "39168ba6",
   "metadata": {
    "scrolled": true
   },
   "outputs": [],
   "source": [
    "print(df_actual.groupby('exp')['user_id'].nunique())\n",
    "print('Всего пользователей в тесте за актуальный период -', df_actual['user_id'].nunique())"
   ]
  },
  {
   "cell_type": "markdown",
   "id": "eccbf5a4",
   "metadata": {},
   "source": [
    "Посчитаем количество пользователей по контрольным группам и их долю "
   ]
  },
  {
   "cell_type": "code",
   "execution_count": null,
   "id": "ea76d0d9",
   "metadata": {},
   "outputs": [],
   "source": [
    "funnel_group = (df_actual.\n",
    "          groupby(['event', 'exp']).\n",
    "          agg({'user_id': 'nunique'}).\n",
    "          reset_index().\n",
    "          rename(columns={'user_id' : 'total_users'}).\n",
    "          sort_values(by=['exp','total_users'], ascending=False))\n",
    "\n",
    "funnel_group = funnel_group[funnel_group['event'] != 'Tutorial']\n",
    "display(funnel_group)"
   ]
  },
  {
   "cell_type": "code",
   "execution_count": null,
   "id": "0e31bd89",
   "metadata": {},
   "outputs": [],
   "source": [
    "fig = go.Figure()\n",
    "\n",
    "fig.add_trace(go.Funnel(name = '246',\n",
    "                        y = funnel_group.query('exp == 246')['event'],\n",
    "                        x = funnel_group.query('exp == 246')['total_users'],\n",
    "                        opacity = 0.6,\n",
    "                        textposition = 'inside',\n",
    "                        textinfo = 'value + percent previous'))\n",
    "\n",
    "fig.add_trace(go.Funnel(name = '247',\n",
    "                        y = funnel_group.query('exp == 247')['event'],\n",
    "                        x = funnel_group.query('exp == 247')['total_users'],\n",
    "                        opacity = 0.6,\n",
    "                        textposition = 'inside',\n",
    "                        textinfo = 'value + percent previous'))\n",
    "\n",
    "\n",
    "fig.add_trace(go.Funnel(name = '248',\n",
    "                        y = funnel_group.query('exp == 248')['event'],\n",
    "                        x = funnel_group.query('exp == 248')['total_users'],\n",
    "                        opacity = 0.6,\n",
    "                        textposition = 'inside',\n",
    "                        textinfo = 'value + percent previous'))\n",
    "                        \n",
    "fig.update_layout(title_text='Воронка событий в разрезе тестовых групп')\n",
    "fig.show()"
   ]
  },
  {
   "cell_type": "markdown",
   "id": "2d6ff1d0",
   "metadata": {},
   "source": [
    "- По воронке событий в разрезе тестовых групп, группы очень похожи. \n",
    "- В А/В-тестировании проверяем гипотезу о равенстве выборок, но сначала проверим находят ли статистические критерии разницу между выборками 246 и 247 (А/А-тест).Используем Z-критерий (статистический тест, позволяющий определить, различаются ли два средних значения генеральной совокупности, когда дисперсии известны и размер выборки велик). Для удобства, напишем функцию."
   ]
  },
  {
   "cell_type": "code",
   "execution_count": null,
   "id": "b79b28a5",
   "metadata": {},
   "outputs": [],
   "source": [
    "def z_test(df1, df2, event, alpha, n):\n",
    "    \n",
    "    # критический уровень статистической значимости c поправкой Бонферрони\n",
    "    #pvalue_correction = alpha / n\n",
    "    \n",
    "    # критический уровень статистической значимости c поправкой Холма\n",
    "    pvalue_correction = []\n",
    "    for i in range(n): # получаем номер текущего теста и считаем коррекцию \n",
    "        pvalue_correction += [alpha / (n - i)]\n",
    "\n",
    "    pvalue_correction = np.mean(pvalue_correction)\n",
    "    \n",
    " \n",
    "    # число пользователей в группе 1 и группе 2:\n",
    "    n_users = np.array([df1['user_id'].nunique(), \n",
    "                        df2['user_id'].nunique()])\n",
    "\n",
    "    # число пользователей, совершивших событие в группе 1 и группе 2\n",
    "    success = np.array([df1[df1['event'] == event]['user_id'].nunique(), \n",
    "                        df2[df2['event'] == event]['user_id'].nunique()])\n",
    "\n",
    "    # пропорции успехов в группах:\n",
    "    p1 = success[0]/n_users[0]\n",
    "    p2 = success[1]/n_users[1]\n",
    "    \n",
    "    # пропорция успехов в комбинированном датасете:\n",
    "    p_combined = (success[0] + success[1]) / (n_users[0] + n_users[1])\n",
    "\n",
    "    # разница пропорций в датасетах\n",
    "    difference = p1 - p2 \n",
    "\n",
    "    # считаем статистику в ст.отклонениях стандартного нормального распределения\n",
    "    z_value = difference /  np.sqrt(p_combined * (1 - p_combined) * (1/n_users[0] + 1/n_users[1]))\n",
    "\n",
    "    # задаем стандартное нормальное распределение (среднее 0, ст.отклонение 1)\n",
    "    distr = st.norm(0, 1)  \n",
    "\n",
    "    p_value = (1 - distr.cdf(abs(z_value))) * 2   #тест двусторонний, удваиваем результат\n",
    "    \n",
    "    print('Событие:', event)\n",
    "    print('p-значение: ', p_value)\n",
    "\n",
    "    if p_value < pvalue_correction:\n",
    "        print('Отвергаем нулевую гипотезу: между долями есть разница')\n",
    "    else:\n",
    "        print(\n",
    "        'Не получилось отвергнуть нулевую гипотезу, нет оснований считать доли разными')"
   ]
  },
  {
   "cell_type": "markdown",
   "id": "06b0ea83",
   "metadata": {},
   "source": [
    "Нам необходимо сопоставить доли по каждому событию между:\n",
    "\n",
    "- контрольными группами 246 и 247;\n",
    "- каждой из контрольной группы по отдельности и экспериментальной (246-248 и 247-248);\n",
    "- объединенной контрольной группой и экспериментальной (246+247 и 248).\n",
    "\n",
    "Всего у нас 4 вида событий, 4 A/A теста и 12 А/В, следовательно для всех тестов мы вводим поправку Бонферрони, чтобы застраховать себя от ложного результата."
   ]
  },
  {
   "cell_type": "markdown",
   "id": "0292998e",
   "metadata": {},
   "source": [
    "Введем основную и альтернативные гипотезы:\n",
    "\n",
    "- H0: различий в долях между группами нет\n",
    "- H1: различия в долях между группами есть"
   ]
  },
  {
   "cell_type": "code",
   "execution_count": null,
   "id": "4adeb36b",
   "metadata": {},
   "outputs": [],
   "source": [
    "# проверим, есть ли статистически значимая разница между контрольными группами 246 и 247:\n",
    "\n",
    "for event in funnel_group['event'].unique():\n",
    "    z_test(df_actual[df_actual['exp'] == 246], df_actual[df_actual['exp'] == 247], event,.05, 16)\n",
    "    print()"
   ]
  },
  {
   "cell_type": "markdown",
   "id": "dc9f56a2",
   "metadata": {},
   "source": [
    "Между группами 246 и 247 ни по одному событию нет статистически достоверного отличия при заданном уровне значимости, а значит, приступаем к A/B-тестированию."
   ]
  },
  {
   "cell_type": "code",
   "execution_count": null,
   "id": "c60be2f0",
   "metadata": {},
   "outputs": [],
   "source": [
    "# проверим, есть ли статистически значимая разница между контрольными группами 246 и 248:\n",
    "\n",
    "for event in funnel_group['event'].unique():\n",
    "    z_test(df_actual[df_actual['exp'] == 246], df_actual[df_actual['exp'] == 248], event, .05, 16)\n",
    "    print()"
   ]
  },
  {
   "cell_type": "markdown",
   "id": "a33bcaf6",
   "metadata": {},
   "source": [
    "Между группами 246 и 248 ни по одному событию нет статистически достоверного отличия при заданном уровне значимости"
   ]
  },
  {
   "cell_type": "code",
   "execution_count": null,
   "id": "ec1a395c",
   "metadata": {},
   "outputs": [],
   "source": [
    "# проверим, есть ли статистически значимая разница между контрольными группами 247 и 248:\n",
    "\n",
    "for event in funnel_group['event'].unique():\n",
    "    z_test(df_actual[df_actual['exp'] == 247], df_actual[df_actual['exp'] == 248], event,.05, 16)\n",
    "    print()"
   ]
  },
  {
   "cell_type": "markdown",
   "id": "8fad51e2",
   "metadata": {},
   "source": [
    "Между группами 247 и 248 ни по одному событию нет статистически достоверного отличия при заданном уровне значимости"
   ]
  },
  {
   "cell_type": "code",
   "execution_count": null,
   "id": "df3121f1",
   "metadata": {},
   "outputs": [],
   "source": [
    "# проверим есть ли статистически значимая разница между объединённой контрольной и экпериментальной 248 группами:\n",
    "\n",
    "for event in funnel_group['event'].unique():\n",
    "    z_test(df_actual[df_actual['exp'] != 248], df_actual[df_actual['exp'] == 248], event,.05,16)\n",
    "    print()"
   ]
  },
  {
   "cell_type": "markdown",
   "id": "aa2de52a",
   "metadata": {},
   "source": [
    "Между объединённой контрольной и экпериментальной 248 группами ни по одному событию нет статистически достоверного отличия при заданном уровне значимости"
   ]
  },
  {
   "cell_type": "markdown",
   "id": "227153ee",
   "metadata": {},
   "source": [
    "Разница в долях между группами по событиям статистически НЕ значима, следовательно шрифт не влияет на взаимодействие пользователя с приложением"
   ]
  },
  {
   "cell_type": "markdown",
   "id": "1fe5a293",
   "metadata": {},
   "source": [
    "### Общий вывод"
   ]
  },
  {
   "cell_type": "markdown",
   "id": "1519820d",
   "metadata": {},
   "source": [
    "В ходе исследования мы изучили данные о работе мобильного приложения-магазина.\n",
    "\n",
    "- Из представленных данных видно, что приложение имеет проблемы с юзабилити на экране офферты, что приводит к оттоку пользователей `(38,1%)`, чуть менее 9% на следующем и около 2% при переходе на последний шаг. Возможно, следует поискать проблему на этом этапе.\n",
    "- Доля пользователей которая доходит от первого события до оплаты составляет 47%.\n",
    "- Нулевой гипотезой было предположение, что выбранный дизайнерами шрифт не влияет на взаимодействие пользователей с приложением. Отвергнуть эту гипотезу не удалось, по-видимому, шрифт действительно не влияет на пользователей, либо новый шрифт так же удобен и читаем, как старый.\n",
    "- Также, можно заключить, что разделение на группы в рамках проведенных A/A-тестов происходит корректно.\n"
   ]
  }
 ],
 "metadata": {
  "kernelspec": {
   "display_name": "Python 3 (ipykernel)",
   "language": "python",
   "name": "python3"
  },
  "language_info": {
   "codemirror_mode": {
    "name": "ipython",
    "version": 3
   },
   "file_extension": ".py",
   "mimetype": "text/x-python",
   "name": "python",
   "nbconvert_exporter": "python",
   "pygments_lexer": "ipython3",
   "version": "3.11.5"
  }
 },
 "nbformat": 4,
 "nbformat_minor": 5
}
